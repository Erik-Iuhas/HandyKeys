{
  "nbformat": 4,
  "nbformat_minor": 0,
  "metadata": {
    "colab": {
      "name": "HandyClassy.ipynb",
      "provenance": [],
      "collapsed_sections": [],
      "machine_shape": "hm"
    },
    "kernelspec": {
      "name": "python3",
      "display_name": "Python 3"
    },
    "language_info": {
      "name": "python"
    },
    "accelerator": "GPU"
  },
  "cells": [
    {
      "cell_type": "markdown",
      "source": [
        "**Student ID:** Erik Iuhas 101076512\n",
        "# HandyKeys Training and Validation Code\n",
        "\n",
        "This notebook contains the models for training the HandyKeys Classifiers and testing "
      ],
      "metadata": {
        "id": "N3jfWqe5mUhR"
      }
    },
    {
      "cell_type": "markdown",
      "source": [
        "# Mount for Training\n",
        "Training is done using my Google Drive. It will not be possible for you to test my training on your own google drive unless you set up the folder the same way as I did in at my drive link:  https://drive.google.com/drive/folders/1Tj5QfndOj4xlEvG-CxJihrJdXRqfIokj?usp=sharing"
      ],
      "metadata": {
        "id": "FvfspWiRnbzC"
      }
    },
    {
      "cell_type": "code",
      "execution_count": 1,
      "metadata": {
        "id": "ayC0gxNwmQuv",
        "colab": {
          "base_uri": "https://localhost:8080/",
          "height": 0
        },
        "outputId": "c03ddb63-be88-4f23-8d69-76debd73b9c7"
      },
      "outputs": [
        {
          "output_type": "stream",
          "name": "stdout",
          "text": [
            "Mounted at /content/drive\n"
          ]
        }
      ],
      "source": [
        "from google.colab import drive \n",
        "drive.mount('/content/drive')\n",
        "\n",
        "folder_path = \"drive/MyDrive/HandyKeys/Dataset\""
      ]
    },
    {
      "cell_type": "markdown",
      "source": [
        "# Import Required Libraries (REQUIRED)\n",
        "In this code block we are importing Tensorflow and Keras along with other libraries needed for training."
      ],
      "metadata": {
        "id": "OSKUENJ7vXal"
      }
    },
    {
      "cell_type": "code",
      "source": [
        "import os\n",
        "import numpy as np\n",
        "import cv2 as cv\n",
        "import tensorflow as tf\n",
        "import numpy as np\n",
        "from PIL import Image\n",
        "from itertools import cycle\n",
        "from matplotlib import pyplot as plt\n",
        "from tensorflow.keras.preprocessing.image import ImageDataGenerator\n",
        "from sklearn import svm, datasets\n",
        "from sklearn.metrics import roc_curve, auc\n",
        "from sklearn.model_selection import train_test_split\n",
        "from sklearn.preprocessing import label_binarize\n",
        "from sklearn.multiclass import OneVsRestClassifier\n",
        "from scipy import interp\n",
        "from sklearn.metrics import roc_auc_score"
      ],
      "metadata": {
        "id": "ZBxyiOAgvXBU"
      },
      "execution_count": 1,
      "outputs": []
    },
    {
      "cell_type": "markdown",
      "source": [
        "# Setup Training and Validation Paths\n",
        "If testing ensure you have the files at the specified within your Google Drive "
      ],
      "metadata": {
        "id": "-IaaUfKB5mGU"
      }
    },
    {
      "cell_type": "code",
      "source": [
        "train_hand_1 = os.path.join(folder_path + '/train/Hand1')\n",
        "train_hand_2 = os.path.join(folder_path + '/train/Hand2')\n",
        "train_hand_3 = os.path.join(folder_path + '/train/Hand3')\n",
        "train_hand_4 = os.path.join(folder_path + '/train/Hand4')\n",
        "train_hand_5 = os.path.join(folder_path + '/train/Hand5')\n",
        "train_hand_6 = os.path.join(folder_path + '/train/Hand6')\n",
        "train_hand_7 = os.path.join(folder_path + '/train/Hand7')\n",
        "train_none = os.path.join(folder_path + '/train/None')\n",
        "\n",
        "\n",
        "validation_hand_1 = os.path.join(folder_path + '/validation/Hand1')\n",
        "validation_hand_2 = os.path.join(folder_path + '/validation/Hand2')\n",
        "validation_hand_3 = os.path.join(folder_path + '/validation/Hand3')\n",
        "validation_hand_4 = os.path.join(folder_path + '/validation/Hand4')\n",
        "validation_hand_5 = os.path.join(folder_path + '/validation/Hand5')\n",
        "validation_hand_6 = os.path.join(folder_path + '/validation/Hand6')\n",
        "validation_hand_7 = os.path.join(folder_path + '/validation/Hand7')\n",
        "validation_none = os.path.join(folder_path + '/validation/None')\n",
        "\n"
      ],
      "metadata": {
        "id": "M9d0SFSC45Ed"
      },
      "execution_count": 3,
      "outputs": []
    },
    {
      "cell_type": "markdown",
      "source": [
        "# Initialize Dataset and Validation Set"
      ],
      "metadata": {
        "id": "8AvqcwnX4YOa"
      }
    },
    {
      "cell_type": "code",
      "source": [
        "# set the size for the images being trained on.\n",
        "image_size = 256\n",
        "\n",
        "# apply data augmentation (Flip, and shift height and width) and regularize the photos to be within 0 to 1\n",
        "train_datagen = ImageDataGenerator(rescale= 1./255,horizontal_flip = True,height_shift_range=0.1,width_shift_range=0.05,fill_mode='nearest')\n",
        "validation_datagen = ImageDataGenerator(rescale= 1./255,horizontal_flip = True,height_shift_range=0.1,width_shift_range=0.05,fill_mode='nearest')\n",
        "\n",
        "#select the batch size and initialize folders for training\n",
        "train_generator = train_datagen.flow_from_directory(\n",
        "        folder_path + '/train/',  # training image directory\n",
        "        classes = ['Hand1', 'Hand2','Hand3', 'Hand4','Hand5', 'Hand6','Hand7', 'None'],\n",
        "        target_size=(image_size, image_size),  \n",
        "        batch_size=22, # Because there are 792 images, we will use a batch size of 22\n",
        "        class_mode= 'categorical', # using categorical because we have 8 classes\n",
        "        shuffle=True)\n",
        "\n",
        "# Flow validation images in batches of 19 using valid_datagen generator\n",
        "validation_generator = validation_datagen.flow_from_directory(\n",
        "        folder_path + '/validation/',  # training image directory\n",
        "        classes = ['Hand1', 'Hand2','Hand3', 'Hand4','Hand5', 'Hand6','Hand7', 'None'],\n",
        "        target_size=(image_size, image_size), \n",
        "        batch_size=6, # Because there are 168 images, we will use a batch size of 6\n",
        "        # Use binary labels\n",
        "        class_mode= 'categorical', # using categorical because we have 8 classes\n",
        "        shuffle=False)"
      ],
      "metadata": {
        "colab": {
          "base_uri": "https://localhost:8080/",
          "height": 0
        },
        "id": "jBHxtT1m6N1J",
        "outputId": "52c5a1c8-7e2f-47be-8672-e37f514a9c47"
      },
      "execution_count": 4,
      "outputs": [
        {
          "output_type": "stream",
          "name": "stdout",
          "text": [
            "Found 792 images belonging to 8 classes.\n",
            "Found 168 images belonging to 8 classes.\n"
          ]
        }
      ]
    },
    {
      "cell_type": "markdown",
      "source": [
        "# Create VGG Network Architecture\n",
        "\n",
        "Following the architecture for Configuration A we are attempting to make a VGG network. "
      ],
      "metadata": {
        "id": "cGmBCyMA9B5a"
      }
    },
    {
      "cell_type": "code",
      "source": [
        "vgg_16_base = tf.keras.models.Sequential([\n",
        "\n",
        "#First Layer, Convolution using the size of the image with depth 64\n",
        "tf.keras.layers.Conv2D(64, (3,3), activation='relu',padding='same', input_shape=(image_size, image_size, 3)),\n",
        "tf.keras.layers.MaxPooling2D(),\n",
        "\n",
        "#Second Layer, Convolution with depth 128\n",
        "tf.keras.layers.Conv2D(128, (3,3),padding='same', activation='relu'),\n",
        "tf.keras.layers.MaxPooling2D(),\n",
        "\n",
        "#Third Layer, Convolution with depth 256\n",
        "tf.keras.layers.Conv2D(256, (3,3),padding='same', activation='relu'),\n",
        "tf.keras.layers.Conv2D(256, (3,3),padding='same', activation='relu'),\n",
        "tf.keras.layers.MaxPooling2D(),\n",
        "\n",
        "#Fourth Layer, Convolution with depth 512\n",
        "tf.keras.layers.Conv2D(512, (3,3),padding='same', activation='relu'),\n",
        "tf.keras.layers.Conv2D(512, (3,3),padding='same', activation='relu'),\n",
        "tf.keras.layers.MaxPooling2D(),\n",
        "\n",
        "#Fifth Layer, Convolution with depth 512\n",
        "tf.keras.layers.Conv2D(512, (3,3),padding='same', activation='relu'),\n",
        "tf.keras.layers.Conv2D(512, (3,3),padding='same', activation='relu'),\n",
        "tf.keras.layers.MaxPooling2D(),\n",
        "\n",
        "tf.keras.layers.Flatten(),\n",
        "tf.keras.layers.Dense(4096, activation='relu'),\n",
        "tf.keras.layers.Dense(8, activation='softmax')]) # Hot ones encoding for 8 values"
      ],
      "metadata": {
        "id": "rFTCtwSV9BaD"
      },
      "execution_count": 16,
      "outputs": []
    },
    {
      "cell_type": "markdown",
      "source": [
        "# Display Network Architecture"
      ],
      "metadata": {
        "id": "nTH1zJqQBWI8"
      }
    },
    {
      "cell_type": "code",
      "source": [
        "vgg_16_base.summary()"
      ],
      "metadata": {
        "colab": {
          "base_uri": "https://localhost:8080/",
          "height": 0
        },
        "id": "haomky3CBVbW",
        "outputId": "d697b55d-dde3-415d-81f8-57eb8d5ed0b8"
      },
      "execution_count": 17,
      "outputs": [
        {
          "output_type": "stream",
          "name": "stdout",
          "text": [
            "Model: \"sequential_2\"\n",
            "_________________________________________________________________\n",
            " Layer (type)                Output Shape              Param #   \n",
            "=================================================================\n",
            " conv2d_16 (Conv2D)          (None, 256, 256, 64)      1792      \n",
            "                                                                 \n",
            " max_pooling2d_10 (MaxPoolin  (None, 128, 128, 64)     0         \n",
            " g2D)                                                            \n",
            "                                                                 \n",
            " conv2d_17 (Conv2D)          (None, 128, 128, 128)     73856     \n",
            "                                                                 \n",
            " max_pooling2d_11 (MaxPoolin  (None, 64, 64, 128)      0         \n",
            " g2D)                                                            \n",
            "                                                                 \n",
            " conv2d_18 (Conv2D)          (None, 64, 64, 256)       295168    \n",
            "                                                                 \n",
            " conv2d_19 (Conv2D)          (None, 64, 64, 256)       590080    \n",
            "                                                                 \n",
            " max_pooling2d_12 (MaxPoolin  (None, 32, 32, 256)      0         \n",
            " g2D)                                                            \n",
            "                                                                 \n",
            " conv2d_20 (Conv2D)          (None, 32, 32, 512)       1180160   \n",
            "                                                                 \n",
            " conv2d_21 (Conv2D)          (None, 32, 32, 512)       2359808   \n",
            "                                                                 \n",
            " max_pooling2d_13 (MaxPoolin  (None, 16, 16, 512)      0         \n",
            " g2D)                                                            \n",
            "                                                                 \n",
            " conv2d_22 (Conv2D)          (None, 16, 16, 512)       2359808   \n",
            "                                                                 \n",
            " conv2d_23 (Conv2D)          (None, 16, 16, 512)       2359808   \n",
            "                                                                 \n",
            " max_pooling2d_14 (MaxPoolin  (None, 8, 8, 512)        0         \n",
            " g2D)                                                            \n",
            "                                                                 \n",
            " flatten_2 (Flatten)         (None, 32768)             0         \n",
            "                                                                 \n",
            " dense_4 (Dense)             (None, 4096)              134221824 \n",
            "                                                                 \n",
            " dense_5 (Dense)             (None, 8)                 32776     \n",
            "                                                                 \n",
            "=================================================================\n",
            "Total params: 143,475,080\n",
            "Trainable params: 143,475,080\n",
            "Non-trainable params: 0\n",
            "_________________________________________________________________\n"
          ]
        }
      ]
    },
    {
      "cell_type": "markdown",
      "source": [
        "# Setup Checkpoints"
      ],
      "metadata": {
        "id": "d8eKslxBDGnK"
      }
    },
    {
      "cell_type": "code",
      "source": [
        "checkpoint_path = \"/tmp/cp-{epoch:04d}.ckpt\"\n",
        "checkpoint_dir = os.path.dirname(checkpoint_path)\n",
        "\n",
        "#Initialize checkpoints\n",
        "cp_callback = tf.keras.callbacks.ModelCheckpoint(\n",
        "    filepath=checkpoint_path, \n",
        "    verbose=1, \n",
        "    save_weights_only=True,\n",
        "    save_freq=25) #save every batch\n",
        "\n",
        "vgg_16_base.save_weights(checkpoint_path.format(epoch=0))\n"
      ],
      "metadata": {
        "id": "W0X-od6CC5Q6"
      },
      "execution_count": 13,
      "outputs": []
    },
    {
      "cell_type": "markdown",
      "source": [
        "# Begin Training Classifier"
      ],
      "metadata": {
        "id": "1NuN_3kBDXI6"
      }
    },
    {
      "cell_type": "code",
      "source": [
        "vgg_16_base.compile(optimizer = tf.optimizers.Adam(),\n",
        "              loss = 'binary_crossentropy',\n",
        "              metrics=['accuracy',tf.keras.metrics.Recall()])"
      ],
      "metadata": {
        "id": "npYZq_cdDTo8"
      },
      "execution_count": 19,
      "outputs": []
    },
    {
      "cell_type": "code",
      "source": [
        "results = vgg_16_base.fit(train_generator,\n",
        "      steps_per_epoch=36,  # because we have 792 training images and a batch size of 22 we need 36 steps per epoch\n",
        "      epochs=35, # train for 30 epochs\n",
        "      verbose=1,\n",
        "      validation_data = validation_generator,\n",
        "      callbacks = [cp_callback],\n",
        "      validation_steps=28) # because we have 168 training images and a batch size of 6 we need 28 steps per epoch"
      ],
      "metadata": {
        "colab": {
          "base_uri": "https://localhost:8080/",
          "height": 0
        },
        "id": "GSrhEn7tDhDt",
        "outputId": "903aaab0-9952-452a-e87a-7514a2c8d0d5"
      },
      "execution_count": 20,
      "outputs": [
        {
          "output_type": "stream",
          "name": "stdout",
          "text": [
            "Epoch 1/35\n",
            "24/36 [===================>..........] - ETA: 3s - loss: 0.6032 - accuracy: 0.1212 - recall_2: 0.0038\n",
            "Epoch 1: saving model to /tmp/cp-0001.ckpt\n",
            "36/36 [==============================] - 23s 609ms/step - loss: 0.5300 - accuracy: 0.1212 - recall_2: 0.0025 - val_loss: 0.3815 - val_accuracy: 0.1250 - val_recall_2: 0.0000e+00\n",
            "Epoch 2/35\n",
            "13/36 [=========>....................] - ETA: 7s - loss: 0.3853 - accuracy: 0.0839 - recall_2: 0.0000e+00\n",
            "Epoch 2: saving model to /tmp/cp-0002.ckpt\n",
            "36/36 [==============================] - 20s 565ms/step - loss: 0.3829 - accuracy: 0.1023 - recall_2: 0.0000e+00 - val_loss: 0.3801 - val_accuracy: 0.1250 - val_recall_2: 0.0000e+00\n",
            "Epoch 3/35\n",
            " 2/36 [>.............................] - ETA: 10s - loss: 0.3772 - accuracy: 0.1591 - recall_2: 0.0000e+00\n",
            "Epoch 3: saving model to /tmp/cp-0003.ckpt\n",
            "27/36 [=====================>........] - ETA: 5s - loss: 0.3808 - accuracy: 0.1212 - recall_2: 0.0000e+00\n",
            "Epoch 3: saving model to /tmp/cp-0003.ckpt\n",
            "36/36 [==============================] - 26s 741ms/step - loss: 0.3812 - accuracy: 0.1174 - recall_2: 0.0000e+00 - val_loss: 0.3788 - val_accuracy: 0.1250 - val_recall_2: 0.0000e+00\n",
            "Epoch 4/35\n",
            "16/36 [============>.................] - ETA: 6s - loss: 0.3813 - accuracy: 0.0881 - recall_2: 0.0000e+00\n",
            "Epoch 4: saving model to /tmp/cp-0004.ckpt\n",
            "36/36 [==============================] - 20s 570ms/step - loss: 0.3798 - accuracy: 0.1199 - recall_2: 0.0000e+00 - val_loss: 0.3766 - val_accuracy: 0.1250 - val_recall_2: 0.0000e+00\n",
            "Epoch 5/35\n",
            " 5/36 [===>..........................] - ETA: 9s - loss: 0.3764 - accuracy: 0.1636 - recall_2: 0.0000e+00 \n",
            "Epoch 5: saving model to /tmp/cp-0005.ckpt\n",
            "30/36 [========================>.....] - ETA: 3s - loss: 0.3484 - accuracy: 0.2364 - recall_2: 0.0788\n",
            "Epoch 5: saving model to /tmp/cp-0005.ckpt\n",
            "36/36 [==============================] - 27s 773ms/step - loss: 0.3486 - accuracy: 0.2298 - recall_2: 0.0859 - val_loss: 0.9512 - val_accuracy: 0.1964 - val_recall_2: 0.1190\n",
            "Epoch 6/35\n",
            "19/36 [==============>...............] - ETA: 5s - loss: 0.4047 - accuracy: 0.1292 - recall_2: 0.0191\n",
            "Epoch 6: saving model to /tmp/cp-0006.ckpt\n",
            "36/36 [==============================] - 21s 585ms/step - loss: 0.3936 - accuracy: 0.1275 - recall_2: 0.0101 - val_loss: 0.3779 - val_accuracy: 0.1250 - val_recall_2: 0.0000e+00\n",
            "Epoch 7/35\n",
            " 8/36 [=====>........................] - ETA: 8s - loss: 0.3775 - accuracy: 0.1193 - recall_2: 0.0000e+00\n",
            "Epoch 7: saving model to /tmp/cp-0007.ckpt\n",
            "33/36 [==========================>...] - ETA: 1s - loss: 0.3790 - accuracy: 0.1129 - recall_2: 0.0000e+00\n",
            "Epoch 7: saving model to /tmp/cp-0007.ckpt\n",
            "36/36 [==============================] - 26s 735ms/step - loss: 0.3792 - accuracy: 0.1124 - recall_2: 0.0000e+00 - val_loss: 0.3816 - val_accuracy: 0.1250 - val_recall_2: 0.0000e+00\n",
            "Epoch 8/35\n",
            "22/36 [=================>............] - ETA: 4s - loss: 0.3810 - accuracy: 0.1198 - recall_2: 0.0000e+00\n",
            "Epoch 8: saving model to /tmp/cp-0008.ckpt\n",
            "36/36 [==============================] - 20s 549ms/step - loss: 0.3800 - accuracy: 0.1237 - recall_2: 0.0000e+00 - val_loss: 0.3752 - val_accuracy: 0.1667 - val_recall_2: 0.0000e+00\n",
            "Epoch 9/35\n",
            "11/36 [========>.....................] - ETA: 7s - loss: 0.3831 - accuracy: 0.1777 - recall_2: 0.0041\n",
            "Epoch 9: saving model to /tmp/cp-0009.ckpt\n",
            "36/36 [==============================] - 21s 591ms/step - loss: 0.3839 - accuracy: 0.1212 - recall_2: 0.0013 - val_loss: 0.3796 - val_accuracy: 0.1250 - val_recall_2: 0.0000e+00\n",
            "Epoch 10/35\n",
            "\n",
            "Epoch 10: saving model to /tmp/cp-0010.ckpt\n",
            "25/36 [===================>..........] - ETA: 3s - loss: 0.3790 - accuracy: 0.1200 - recall_2: 0.0000e+00\n",
            "Epoch 10: saving model to /tmp/cp-0010.ckpt\n",
            "36/36 [==============================] - 26s 553ms/step - loss: 0.3788 - accuracy: 0.1187 - recall_2: 0.0000e+00 - val_loss: 0.3776 - val_accuracy: 0.1250 - val_recall_2: 0.0000e+00\n",
            "Epoch 11/35\n",
            "14/36 [==========>...................] - ETA: 6s - loss: 0.3794 - accuracy: 0.0942 - recall_2: 0.0000e+00\n",
            "Epoch 11: saving model to /tmp/cp-0011.ckpt\n",
            "36/36 [==============================] - 20s 566ms/step - loss: 0.3792 - accuracy: 0.1010 - recall_2: 0.0000e+00 - val_loss: 0.3779 - val_accuracy: 0.1250 - val_recall_2: 0.0000e+00\n",
            "Epoch 12/35\n",
            " 3/36 [=>............................] - ETA: 10s - loss: 0.3775 - accuracy: 0.1667 - recall_2: 0.0000e+00\n",
            "Epoch 12: saving model to /tmp/cp-0012.ckpt\n",
            "28/36 [======================>.......] - ETA: 4s - loss: 0.3789 - accuracy: 0.1120 - recall_2: 0.0000e+00\n",
            "Epoch 12: saving model to /tmp/cp-0012.ckpt\n",
            "36/36 [==============================] - 27s 746ms/step - loss: 0.3788 - accuracy: 0.1237 - recall_2: 0.0000e+00 - val_loss: 0.3742 - val_accuracy: 0.2500 - val_recall_2: 0.0000e+00\n",
            "Epoch 13/35\n",
            "17/36 [=============>................] - ETA: 6s - loss: 0.3702 - accuracy: 0.1791 - recall_2: 0.0000e+00\n",
            "Epoch 13: saving model to /tmp/cp-0013.ckpt\n",
            "36/36 [==============================] - 20s 564ms/step - loss: 0.3637 - accuracy: 0.2298 - recall_2: 0.0000e+00 - val_loss: 0.3180 - val_accuracy: 0.3869 - val_recall_2: 0.1012\n",
            "Epoch 14/35\n",
            " 6/36 [====>.........................] - ETA: 9s - loss: 0.3169 - accuracy: 0.4545 - recall_2: 0.1667\n",
            "Epoch 14: saving model to /tmp/cp-0014.ckpt\n",
            "31/36 [========================>.....] - ETA: 2s - loss: 0.3005 - accuracy: 0.4648 - recall_2: 0.2683\n",
            "Epoch 14: saving model to /tmp/cp-0014.ckpt\n",
            "36/36 [==============================] - 26s 738ms/step - loss: 0.2926 - accuracy: 0.4735 - recall_2: 0.2955 - val_loss: 0.2300 - val_accuracy: 0.5595 - val_recall_2: 0.4464\n",
            "Epoch 15/35\n",
            "20/36 [===============>..............] - ETA: 5s - loss: 0.2007 - accuracy: 0.6591 - recall_2: 0.5955\n",
            "Epoch 15: saving model to /tmp/cp-0015.ckpt\n",
            "36/36 [==============================] - 21s 588ms/step - loss: 0.2117 - accuracy: 0.6199 - recall_2: 0.5442 - val_loss: 0.2398 - val_accuracy: 0.6429 - val_recall_2: 0.6310\n",
            "Epoch 16/35\n",
            " 9/36 [======>.......................] - ETA: 8s - loss: 0.2216 - accuracy: 0.6111 - recall_2: 0.5051\n",
            "Epoch 16: saving model to /tmp/cp-0016.ckpt\n",
            "34/36 [===========================>..] - ETA: 1s - loss: 0.1811 - accuracy: 0.6751 - recall_2: 0.6029\n",
            "Epoch 16: saving model to /tmp/cp-0016.ckpt\n",
            "36/36 [==============================] - 26s 741ms/step - loss: 0.1794 - accuracy: 0.6755 - recall_2: 0.6061 - val_loss: 0.1706 - val_accuracy: 0.6607 - val_recall_2: 0.5893\n",
            "Epoch 17/35\n",
            "23/36 [==================>...........] - ETA: 4s - loss: 0.1545 - accuracy: 0.7194 - recall_2: 0.6621\n",
            "Epoch 17: saving model to /tmp/cp-0017.ckpt\n",
            "36/36 [==============================] - 21s 582ms/step - loss: 0.1560 - accuracy: 0.7109 - recall_2: 0.6578 - val_loss: 0.1637 - val_accuracy: 0.6548 - val_recall_2: 0.6131\n",
            "Epoch 18/35\n",
            "12/36 [=========>....................] - ETA: 7s - loss: 0.1330 - accuracy: 0.7576 - recall_2: 0.7045\n",
            "Epoch 18: saving model to /tmp/cp-0018.ckpt\n",
            "36/36 [==============================] - 20s 560ms/step - loss: 0.1327 - accuracy: 0.7513 - recall_2: 0.7045 - val_loss: 0.1371 - val_accuracy: 0.7440 - val_recall_2: 0.7083\n",
            "Epoch 19/35\n",
            " 1/36 [..............................] - ETA: 15s - loss: 0.1173 - accuracy: 0.7727 - recall_2: 0.7273\n",
            "Epoch 19: saving model to /tmp/cp-0019.ckpt\n",
            "26/36 [====================>.........] - ETA: 5s - loss: 0.1251 - accuracy: 0.7640 - recall_2: 0.7133\n",
            "Epoch 19: saving model to /tmp/cp-0019.ckpt\n",
            "36/36 [==============================] - 26s 740ms/step - loss: 0.1295 - accuracy: 0.7513 - recall_2: 0.7033 - val_loss: 0.1306 - val_accuracy: 0.7619 - val_recall_2: 0.6786\n",
            "Epoch 20/35\n",
            "15/36 [===========>..................] - ETA: 6s - loss: 0.1276 - accuracy: 0.7606 - recall_2: 0.7000\n",
            "Epoch 20: saving model to /tmp/cp-0020.ckpt\n",
            "36/36 [==============================] - 20s 552ms/step - loss: 0.1264 - accuracy: 0.7652 - recall_2: 0.7071 - val_loss: 0.1128 - val_accuracy: 0.7857 - val_recall_2: 0.7500\n",
            "Epoch 21/35\n",
            " 4/36 [==>...........................] - ETA: 10s - loss: 0.1049 - accuracy: 0.8295 - recall_2: 0.7955\n",
            "Epoch 21: saving model to /tmp/cp-0021.ckpt\n",
            "29/36 [=======================>......] - ETA: 3s - loss: 0.1229 - accuracy: 0.7806 - recall_2: 0.7382\n",
            "Epoch 21: saving model to /tmp/cp-0021.ckpt\n",
            "36/36 [==============================] - 26s 733ms/step - loss: 0.1183 - accuracy: 0.7917 - recall_2: 0.7475 - val_loss: 0.1266 - val_accuracy: 0.7857 - val_recall_2: 0.7381\n",
            "Epoch 22/35\n",
            "18/36 [==============>...............] - ETA: 5s - loss: 0.1012 - accuracy: 0.8308 - recall_2: 0.7929\n",
            "Epoch 22: saving model to /tmp/cp-0022.ckpt\n",
            "36/36 [==============================] - 20s 568ms/step - loss: 0.1017 - accuracy: 0.8245 - recall_2: 0.7942 - val_loss: 0.1133 - val_accuracy: 0.8036 - val_recall_2: 0.7440\n",
            "Epoch 23/35\n",
            " 7/36 [====>.........................] - ETA: 9s - loss: 0.0792 - accuracy: 0.8506 - recall_2: 0.8182\n",
            "Epoch 23: saving model to /tmp/cp-0023.ckpt\n",
            "32/36 [=========================>....] - ETA: 2s - loss: 0.0953 - accuracy: 0.8267 - recall_2: 0.7969\n",
            "Epoch 23: saving model to /tmp/cp-0023.ckpt\n",
            "36/36 [==============================] - 26s 729ms/step - loss: 0.0933 - accuracy: 0.8321 - recall_2: 0.8018 - val_loss: 0.1008 - val_accuracy: 0.8274 - val_recall_2: 0.7857\n",
            "Epoch 24/35\n",
            "21/36 [================>.............] - ETA: 4s - loss: 0.0957 - accuracy: 0.8442 - recall_2: 0.8052\n",
            "Epoch 24: saving model to /tmp/cp-0024.ckpt\n",
            "36/36 [==============================] - 20s 554ms/step - loss: 0.0953 - accuracy: 0.8346 - recall_2: 0.8030 - val_loss: 0.0794 - val_accuracy: 0.8869 - val_recall_2: 0.8274\n",
            "Epoch 25/35\n",
            "10/36 [=======>......................] - ETA: 8s - loss: 0.0796 - accuracy: 0.8545 - recall_2: 0.8318\n",
            "Epoch 25: saving model to /tmp/cp-0025.ckpt\n",
            "35/36 [============================>.] - ETA: 0s - loss: 0.0759 - accuracy: 0.8675 - recall_2: 0.8468\n",
            "Epoch 25: saving model to /tmp/cp-0025.ckpt\n",
            "36/36 [==============================] - 26s 734ms/step - loss: 0.0770 - accuracy: 0.8649 - recall_2: 0.8447 - val_loss: 0.0851 - val_accuracy: 0.8690 - val_recall_2: 0.8333\n",
            "Epoch 26/35\n",
            "24/36 [===================>..........] - ETA: 3s - loss: 0.0749 - accuracy: 0.8617 - recall_2: 0.8409\n",
            "Epoch 26: saving model to /tmp/cp-0026.ckpt\n",
            "36/36 [==============================] - 20s 563ms/step - loss: 0.0760 - accuracy: 0.8687 - recall_2: 0.8485 - val_loss: 0.0826 - val_accuracy: 0.8690 - val_recall_2: 0.8333\n",
            "Epoch 27/35\n",
            "13/36 [=========>....................] - ETA: 7s - loss: 0.0661 - accuracy: 0.9056 - recall_2: 0.8951\n",
            "Epoch 27: saving model to /tmp/cp-0027.ckpt\n",
            "36/36 [==============================] - 20s 552ms/step - loss: 0.0747 - accuracy: 0.8838 - recall_2: 0.8624 - val_loss: 0.0966 - val_accuracy: 0.8214 - val_recall_2: 0.7917\n",
            "Epoch 28/35\n",
            " 2/36 [>.............................] - ETA: 10s - loss: 0.0754 - accuracy: 0.8864 - recall_2: 0.8636\n",
            "Epoch 28: saving model to /tmp/cp-0028.ckpt\n",
            "27/36 [=====================>........] - ETA: 5s - loss: 0.0613 - accuracy: 0.9024 - recall_2: 0.8788\n",
            "Epoch 28: saving model to /tmp/cp-0028.ckpt\n",
            "36/36 [==============================] - 26s 741ms/step - loss: 0.0680 - accuracy: 0.8902 - recall_2: 0.8674 - val_loss: 0.1047 - val_accuracy: 0.8155 - val_recall_2: 0.7857\n",
            "Epoch 29/35\n",
            "16/36 [============>.................] - ETA: 6s - loss: 0.0699 - accuracy: 0.8835 - recall_2: 0.8807\n",
            "Epoch 29: saving model to /tmp/cp-0029.ckpt\n",
            "36/36 [==============================] - 20s 559ms/step - loss: 0.0630 - accuracy: 0.8990 - recall_2: 0.8876 - val_loss: 0.0816 - val_accuracy: 0.8750 - val_recall_2: 0.8571\n",
            "Epoch 30/35\n",
            " 5/36 [===>..........................] - ETA: 10s - loss: 0.0626 - accuracy: 0.8818 - recall_2: 0.8818\n",
            "Epoch 30: saving model to /tmp/cp-0030.ckpt\n",
            "30/36 [========================>.....] - ETA: 3s - loss: 0.0606 - accuracy: 0.9000 - recall_2: 0.8848\n",
            "Epoch 30: saving model to /tmp/cp-0030.ckpt\n",
            "36/36 [==============================] - 26s 729ms/step - loss: 0.0645 - accuracy: 0.8990 - recall_2: 0.8851 - val_loss: 0.0807 - val_accuracy: 0.8869 - val_recall_2: 0.8512\n",
            "Epoch 31/35\n",
            "19/36 [==============>...............] - ETA: 5s - loss: 0.0647 - accuracy: 0.8995 - recall_2: 0.8756\n",
            "Epoch 31: saving model to /tmp/cp-0031.ckpt\n",
            "36/36 [==============================] - 21s 582ms/step - loss: 0.0592 - accuracy: 0.9091 - recall_2: 0.8864 - val_loss: 0.0583 - val_accuracy: 0.9107 - val_recall_2: 0.8869\n",
            "Epoch 32/35\n",
            " 8/36 [=====>........................] - ETA: 8s - loss: 0.0437 - accuracy: 0.9375 - recall_2: 0.9261\n",
            "Epoch 32: saving model to /tmp/cp-0032.ckpt\n",
            "33/36 [==========================>...] - ETA: 1s - loss: 0.0451 - accuracy: 0.9311 - recall_2: 0.9256\n",
            "Epoch 32: saving model to /tmp/cp-0032.ckpt\n",
            "36/36 [==============================] - 26s 721ms/step - loss: 0.0480 - accuracy: 0.9242 - recall_2: 0.9192 - val_loss: 0.0822 - val_accuracy: 0.8750 - val_recall_2: 0.8571\n",
            "Epoch 33/35\n",
            "22/36 [=================>............] - ETA: 4s - loss: 0.0521 - accuracy: 0.9174 - recall_2: 0.9070\n",
            "Epoch 33: saving model to /tmp/cp-0033.ckpt\n",
            "36/36 [==============================] - 20s 558ms/step - loss: 0.0514 - accuracy: 0.9179 - recall_2: 0.9053 - val_loss: 0.0621 - val_accuracy: 0.9107 - val_recall_2: 0.8869\n",
            "Epoch 34/35\n",
            "11/36 [========>.....................] - ETA: 8s - loss: 0.0416 - accuracy: 0.9421 - recall_2: 0.9339\n",
            "Epoch 34: saving model to /tmp/cp-0034.ckpt\n",
            "36/36 [==============================] - 20s 564ms/step - loss: 0.0474 - accuracy: 0.9230 - recall_2: 0.9116 - val_loss: 0.0564 - val_accuracy: 0.9226 - val_recall_2: 0.9048\n",
            "Epoch 35/35\n",
            "\n",
            "Epoch 35: saving model to /tmp/cp-0035.ckpt\n",
            "25/36 [===================>..........] - ETA: 3s - loss: 0.0324 - accuracy: 0.9545 - recall_2: 0.9309\n",
            "Epoch 35: saving model to /tmp/cp-0035.ckpt\n",
            "36/36 [==============================] - 28s 617ms/step - loss: 0.0411 - accuracy: 0.9343 - recall_2: 0.9154 - val_loss: 0.0487 - val_accuracy: 0.9286 - val_recall_2: 0.9167\n"
          ]
        }
      ]
    },
    {
      "cell_type": "markdown",
      "source": [
        "# Plot Loss\n",
        "Plotting the loss to determine when to stop training the network.  "
      ],
      "metadata": {
        "id": "9op3zhAIfGod"
      }
    },
    {
      "cell_type": "code",
      "source": [
        "#Plot the loss  \n",
        "plt.plot(results.history['loss']) #Testing\n",
        "plt.plot(results.history['val_loss']) #validation\n",
        "#labels \n",
        "plt.title('Base VGG Loss')\n",
        "plt.ylabel('Loss')\n",
        "plt.xlabel('Epoch')\n",
        "plt.legend(['Training', 'Validation'], loc='upper right')\n",
        "plt.show()"
      ],
      "metadata": {
        "colab": {
          "base_uri": "https://localhost:8080/",
          "height": 295
        },
        "id": "Af9a44AyfQxr",
        "outputId": "e07f5eb9-d04c-432f-f990-e21b65121739"
      },
      "execution_count": 21,
      "outputs": [
        {
          "output_type": "display_data",
          "data": {
            "text/plain": [
              "<Figure size 432x288 with 1 Axes>"
            ],
            "image/png": "[encoded data removed]"
          },
          "metadata": {
            "needs_background": "light"
          }
        }
      ]
    },
    {
      "cell_type": "markdown",
      "source": [
        "# Plot Accuracy\n",
        "Plotting the accuracy to determine when the network performed best."
      ],
      "metadata": {
        "id": "0KyZrgW4gbcy"
      }
    },
    {
      "cell_type": "code",
      "source": [
        "#Plot the loss  \n",
        "plt.plot(results.history['accuracy']) #Testing\n",
        "plt.plot(results.history['val_accuracy']) #Validation\n",
        "#Labels\n",
        "plt.title('Base VGG Accuracy')\n",
        "plt.ylabel('Accuracy')\n",
        "plt.xlabel('Epoch')\n",
        "plt.legend(['Training', 'Validation'], loc='lower right')\n",
        "plt.show()"
      ],
      "metadata": {
        "colab": {
          "base_uri": "https://localhost:8080/",
          "height": 295
        },
        "id": "RUCR0BmWgbDi",
        "outputId": "7ed757de-93d7-4a75-c670-81e9c6f0f4cf"
      },
      "execution_count": 22,
      "outputs": [
        {
          "output_type": "display_data",
          "data": {
            "text/plain": [
              "<Figure size 432x288 with 1 Axes>"
            ],
            "image/png": "[encoded data removed]"
          },
          "metadata": {
            "needs_background": "light"
          }
        }
      ]
    },
    {
      "cell_type": "markdown",
      "source": [
        "# Save Weights\n",
        "\n",
        "Save VGG weights"
      ],
      "metadata": {
        "id": "-kN1hrbfc5M7"
      }
    },
    {
      "cell_type": "code",
      "source": [
        "vgg_16_base.save_weights(folder_path + \"/vgg_base.h5\") "
      ],
      "metadata": {
        "id": "i2GOiZMpG1qW"
      },
      "execution_count": 23,
      "outputs": []
    },
    {
      "cell_type": "markdown",
      "source": [
        "# Create new Convolutional Neural Network\n",
        "\n",
        "Due to the higher variance in perforamcne for validatiopn accuracy i am looking to make a more shallow CNN network including dropout layers to improve the performance and increase regularization. I am looking to do this because the application will be running on a local computer and if the model is too large it won't be able to make inferences fast enough to be considered useful.  "
      ],
      "metadata": {
        "id": "iPuBhPai2rb6"
      }
    },
    {
      "cell_type": "markdown",
      "source": [
        "# New Network - TinyHand\n",
        "\n",
        "The machine learning network that I will construct will be called TinyHand going further. This is because it will be a smaller CNN and Hand comes from the Project name \"HandyKeys\" "
      ],
      "metadata": {
        "id": "tCPbyni43Wv5"
      }
    },
    {
      "cell_type": "code",
      "source": [
        "tiny_hand = tf.keras.models.Sequential([\n",
        "\n",
        "#First Layer, First Layer remains the same\n",
        "tf.keras.layers.Conv2D(64, (3,3), activation='relu',padding='same', input_shape=(image_size, image_size, 3)),\n",
        "tf.keras.layers.MaxPooling2D(),\n",
        "tf.keras.layers.Dropout(0.2), #Indroducing Dropout Layers which improves regularization\n",
        "\n",
        "#Second Layer, Convolution with depth 32\n",
        "tf.keras.layers.Conv2D(32, (3,3),padding='same', activation='relu'),\n",
        "tf.keras.layers.Conv2D(32, (3,3),padding='same', activation='relu'),\n",
        "tf.keras.layers.MaxPooling2D(),\n",
        "tf.keras.layers.Dropout(0.2), #Indroducing Dropout Layers which improves regularization \n",
        "\n",
        "#Third Layer, Convolution with depth 64\n",
        "tf.keras.layers.Conv2D(64, (3,3),padding='same', activation='relu'),\n",
        "tf.keras.layers.Conv2D(64, (3,3),padding='same', activation='relu'),\n",
        "tf.keras.layers.MaxPooling2D(),\n",
        "tf.keras.layers.Dropout(0.2), #Indroducing Dropout Layers which improves regularization\n",
        "\n",
        "#Fourth Layer, Convolution with depth 128 Increasing the count of Conv to 3\n",
        "tf.keras.layers.Conv2D(128, (3,3),padding='same', activation='relu'),\n",
        "tf.keras.layers.Conv2D(128, (3,3),padding='same', activation='relu'),\n",
        "tf.keras.layers.Conv2D(128, (3,3),padding='same', activation='relu'),\n",
        "tf.keras.layers.MaxPooling2D(),\n",
        "tf.keras.layers.Dropout(0.2), #Indroducing Dropout Layers which improves regularization \n",
        "\n",
        "#Fifth Layer, Convolution with depth 256\n",
        "tf.keras.layers.Conv2D(256, (3,3),padding='same', activation='relu'),\n",
        "tf.keras.layers.Conv2D(256, (3,3),padding='same', activation='relu'),\n",
        "tf.keras.layers.MaxPooling2D(),\n",
        "\n",
        "tf.keras.layers.Flatten(),\n",
        "tf.keras.layers.Dense(2048, activation='relu'), #Reduce Dense layer to 2048\n",
        "tf.keras.layers.Dense(8, activation='softmax')]) # Hot ones encoding for 8 values"
      ],
      "metadata": {
        "id": "bPGpvlls3ubw"
      },
      "execution_count": 24,
      "outputs": []
    },
    {
      "cell_type": "markdown",
      "source": [
        "# TinyHand Summary\n",
        "As seen in the summary we've reduced the number of parameters by "
      ],
      "metadata": {
        "id": "6vWTAPuA6BLG"
      }
    },
    {
      "cell_type": "code",
      "source": [
        "tiny_hand.summary() "
      ],
      "metadata": {
        "colab": {
          "base_uri": "https://localhost:8080/",
          "height": 0
        },
        "id": "32VpdXxM5gVl",
        "outputId": "d05b1d68-e592-4743-ec1f-45017aa00830"
      },
      "execution_count": 25,
      "outputs": [
        {
          "output_type": "stream",
          "name": "stdout",
          "text": [
            "Model: \"sequential_3\"\n",
            "_________________________________________________________________\n",
            " Layer (type)                Output Shape              Param #   \n",
            "=================================================================\n",
            " conv2d_24 (Conv2D)          (None, 256, 256, 64)      1792      \n",
            "                                                                 \n",
            " max_pooling2d_15 (MaxPoolin  (None, 128, 128, 64)     0         \n",
            " g2D)                                                            \n",
            "                                                                 \n",
            " dropout (Dropout)           (None, 128, 128, 64)      0         \n",
            "                                                                 \n",
            " conv2d_25 (Conv2D)          (None, 128, 128, 32)      18464     \n",
            "                                                                 \n",
            " conv2d_26 (Conv2D)          (None, 128, 128, 32)      9248      \n",
            "                                                                 \n",
            " max_pooling2d_16 (MaxPoolin  (None, 64, 64, 32)       0         \n",
            " g2D)                                                            \n",
            "                                                                 \n",
            " dropout_1 (Dropout)         (None, 64, 64, 32)        0         \n",
            "                                                                 \n",
            " conv2d_27 (Conv2D)          (None, 64, 64, 64)        18496     \n",
            "                                                                 \n",
            " conv2d_28 (Conv2D)          (None, 64, 64, 64)        36928     \n",
            "                                                                 \n",
            " max_pooling2d_17 (MaxPoolin  (None, 32, 32, 64)       0         \n",
            " g2D)                                                            \n",
            "                                                                 \n",
            " dropout_2 (Dropout)         (None, 32, 32, 64)        0         \n",
            "                                                                 \n",
            " conv2d_29 (Conv2D)          (None, 32, 32, 128)       73856     \n",
            "                                                                 \n",
            " conv2d_30 (Conv2D)          (None, 32, 32, 128)       147584    \n",
            "                                                                 \n",
            " conv2d_31 (Conv2D)          (None, 32, 32, 128)       147584    \n",
            "                                                                 \n",
            " max_pooling2d_18 (MaxPoolin  (None, 16, 16, 128)      0         \n",
            " g2D)                                                            \n",
            "                                                                 \n",
            " dropout_3 (Dropout)         (None, 16, 16, 128)       0         \n",
            "                                                                 \n",
            " conv2d_32 (Conv2D)          (None, 16, 16, 256)       295168    \n",
            "                                                                 \n",
            " conv2d_33 (Conv2D)          (None, 16, 16, 256)       590080    \n",
            "                                                                 \n",
            " max_pooling2d_19 (MaxPoolin  (None, 8, 8, 256)        0         \n",
            " g2D)                                                            \n",
            "                                                                 \n",
            " flatten_3 (Flatten)         (None, 16384)             0         \n",
            "                                                                 \n",
            " dense_6 (Dense)             (None, 2048)              33556480  \n",
            "                                                                 \n",
            " dense_7 (Dense)             (None, 8)                 16392     \n",
            "                                                                 \n",
            "=================================================================\n",
            "Total params: 34,912,072\n",
            "Trainable params: 34,912,072\n",
            "Non-trainable params: 0\n",
            "_________________________________________________________________\n"
          ]
        }
      ]
    },
    {
      "cell_type": "markdown",
      "source": [
        "# Prepare Checkpoints"
      ],
      "metadata": {
        "id": "zpVXvoNm-k1G"
      }
    },
    {
      "cell_type": "code",
      "source": [
        "checkpoint_path = \"/tmp/cp-{epoch:04d}.ckpt\"\n",
        "checkpoint_dir = os.path.dirname(checkpoint_path)\n",
        "\n",
        "#Initialize variables for checkpoint testing \n",
        "cp_callback = tf.keras.callbacks.ModelCheckpoint(\n",
        "    filepath=checkpoint_path, \n",
        "    verbose=1, \n",
        "    save_weights_only=True,\n",
        "    save_freq=25) #save every batch\n",
        "\n",
        "tiny_hand.save_weights(checkpoint_path.format(epoch=0))\n"
      ],
      "metadata": {
        "id": "Wo5XL4tA6zJE"
      },
      "execution_count": 26,
      "outputs": []
    },
    {
      "cell_type": "markdown",
      "source": [
        "# Begin Training TinyHand\n",
        "\n",
        "Because TinyHand is a smaller network it will likely take more time for it to reach an optimal loss, to account for this the epohcs were increased to 50 improve learning. This was also found out by earlier training where the loss was still occuring during the original length of 35. "
      ],
      "metadata": {
        "id": "SVmIKK9r-qKl"
      }
    },
    {
      "cell_type": "code",
      "source": [
        "tiny_hand.compile(optimizer = tf.optimizers.Adam(),\n",
        "              loss = 'binary_crossentropy',\n",
        "              metrics=['accuracy',tf.keras.metrics.Recall()])"
      ],
      "metadata": {
        "id": "qQYRtgi8vu7q"
      },
      "execution_count": 27,
      "outputs": []
    },
    {
      "cell_type": "code",
      "source": [
        "results_tiny = tiny_hand.fit(train_generator,\n",
        "      steps_per_epoch=36,  # because we have 792 training images and a batch size of 22 we need 36 steps per epoch\n",
        "      epochs=50, # train for 50 epochs\n",
        "      verbose=1,\n",
        "      validation_data = validation_generator,\n",
        "      callbacks = [cp_callback],\n",
        "      validation_steps=28) # because we have 168 training images and a batch size of 6 we need 28 steps per epoch"
      ],
      "metadata": {
        "colab": {
          "base_uri": "https://localhost:8080/",
          "height": 0
        },
        "id": "X54fAxh27MMi",
        "outputId": "df879c63-4a9c-4544-c649-fbd3257f51cf"
      },
      "execution_count": 28,
      "outputs": [
        {
          "output_type": "stream",
          "name": "stdout",
          "text": [
            "Epoch 1/50\n",
            "24/36 [===================>..........] - ETA: 3s - loss: 0.6322 - accuracy: 0.1477 - recall_3: 0.0227\n",
            "Epoch 1: saving model to /tmp/cp-0001.ckpt\n",
            "36/36 [==============================] - 16s 411ms/step - loss: 0.5508 - accuracy: 0.1376 - recall_3: 0.0152 - val_loss: 0.3882 - val_accuracy: 0.1250 - val_recall_3: 0.0000e+00\n",
            "Epoch 2/50\n",
            "13/36 [=========>....................] - ETA: 7s - loss: 0.3823 - accuracy: 0.1538 - recall_3: 0.0000e+00\n",
            "Epoch 2: saving model to /tmp/cp-0002.ckpt\n",
            "36/36 [==============================] - 14s 393ms/step - loss: 0.3811 - accuracy: 0.1275 - recall_3: 0.0000e+00 - val_loss: 0.3800 - val_accuracy: 0.1250 - val_recall_3: 0.0000e+00\n",
            "Epoch 3/50\n",
            " 2/36 [>.............................] - ETA: 10s - loss: 0.3831 - accuracy: 0.0909 - recall_3: 0.0000e+00\n",
            "Epoch 3: saving model to /tmp/cp-0003.ckpt\n",
            "27/36 [=====================>........] - ETA: 3s - loss: 0.3794 - accuracy: 0.1162 - recall_3: 0.0000e+00\n",
            "Epoch 3: saving model to /tmp/cp-0003.ckpt\n",
            "36/36 [==============================] - 16s 441ms/step - loss: 0.3793 - accuracy: 0.1136 - recall_3: 0.0000e+00 - val_loss: 0.3798 - val_accuracy: 0.2024 - val_recall_3: 0.0000e+00\n",
            "Epoch 4/50\n",
            "16/36 [============>.................] - ETA: 6s - loss: 0.3794 - accuracy: 0.1420 - recall_3: 0.0000e+00\n",
            "Epoch 4: saving model to /tmp/cp-0004.ckpt\n",
            "36/36 [==============================] - 14s 397ms/step - loss: 0.3801 - accuracy: 0.1288 - recall_3: 0.0000e+00 - val_loss: 0.3800 - val_accuracy: 0.1250 - val_recall_3: 0.0000e+00\n",
            "Epoch 5/50\n",
            " 5/36 [===>..........................] - ETA: 9s - loss: 0.3783 - accuracy: 0.1455 - recall_3: 0.0000e+00 \n",
            "Epoch 5: saving model to /tmp/cp-0005.ckpt\n",
            "30/36 [========================>.....] - ETA: 1s - loss: 0.3772 - accuracy: 0.1364 - recall_3: 0.0000e+00\n",
            "Epoch 5: saving model to /tmp/cp-0005.ckpt\n",
            "36/36 [==============================] - 15s 429ms/step - loss: 0.3761 - accuracy: 0.1578 - recall_3: 0.0000e+00 - val_loss: 0.3757 - val_accuracy: 0.2500 - val_recall_3: 0.0000e+00\n",
            "Epoch 6/50\n",
            "19/36 [==============>...............] - ETA: 5s - loss: 0.3696 - accuracy: 0.2153 - recall_3: 0.0000e+00\n",
            "Epoch 6: saving model to /tmp/cp-0006.ckpt\n",
            "36/36 [==============================] - 14s 399ms/step - loss: 0.3596 - accuracy: 0.2563 - recall_3: 0.0202 - val_loss: 0.3218 - val_accuracy: 0.3631 - val_recall_3: 0.1667\n",
            "Epoch 7/50\n",
            " 8/36 [=====>........................] - ETA: 8s - loss: 0.3081 - accuracy: 0.4261 - recall_3: 0.2557\n",
            "Epoch 7: saving model to /tmp/cp-0007.ckpt\n",
            "33/36 [==========================>...] - ETA: 1s - loss: 0.2880 - accuracy: 0.4656 - recall_3: 0.2934\n",
            "Epoch 7: saving model to /tmp/cp-0007.ckpt\n",
            "36/36 [==============================] - 15s 422ms/step - loss: 0.2857 - accuracy: 0.4760 - recall_3: 0.3119 - val_loss: 0.2362 - val_accuracy: 0.5476 - val_recall_3: 0.4643\n",
            "Epoch 8/50\n",
            "22/36 [=================>............] - ETA: 4s - loss: 0.2230 - accuracy: 0.5888 - recall_3: 0.5207\n",
            "Epoch 8: saving model to /tmp/cp-0008.ckpt\n",
            "36/36 [==============================] - 14s 401ms/step - loss: 0.2248 - accuracy: 0.5896 - recall_3: 0.5164 - val_loss: 0.2217 - val_accuracy: 0.6369 - val_recall_3: 0.4821\n",
            "Epoch 9/50\n",
            "11/36 [========>.....................] - ETA: 7s - loss: 0.1824 - accuracy: 0.6653 - recall_3: 0.6033\n",
            "Epoch 9: saving model to /tmp/cp-0009.ckpt\n",
            "36/36 [==============================] - 14s 400ms/step - loss: 0.1841 - accuracy: 0.6616 - recall_3: 0.6010 - val_loss: 0.1824 - val_accuracy: 0.7083 - val_recall_3: 0.5833\n",
            "Epoch 10/50\n",
            "\n",
            "Epoch 10: saving model to /tmp/cp-0010.ckpt\n",
            "25/36 [===================>..........] - ETA: 3s - loss: 0.1685 - accuracy: 0.6782 - recall_3: 0.6182\n",
            "Epoch 10: saving model to /tmp/cp-0010.ckpt\n",
            "36/36 [==============================] - 15s 402ms/step - loss: 0.1692 - accuracy: 0.6742 - recall_3: 0.6212 - val_loss: 0.1705 - val_accuracy: 0.6964 - val_recall_3: 0.6190\n",
            "Epoch 11/50\n",
            "14/36 [==========>...................] - ETA: 6s - loss: 0.1368 - accuracy: 0.7370 - recall_3: 0.6786\n",
            "Epoch 11: saving model to /tmp/cp-0011.ckpt\n",
            "36/36 [==============================] - 15s 410ms/step - loss: 0.1404 - accuracy: 0.7323 - recall_3: 0.6755 - val_loss: 0.1479 - val_accuracy: 0.7321 - val_recall_3: 0.6310\n",
            "Epoch 12/50\n",
            " 3/36 [=>............................] - ETA: 10s - loss: 0.1286 - accuracy: 0.8030 - recall_3: 0.7121\n",
            "Epoch 12: saving model to /tmp/cp-0012.ckpt\n",
            "28/36 [======================>.......] - ETA: 2s - loss: 0.1370 - accuracy: 0.7581 - recall_3: 0.6964\n",
            "Epoch 12: saving model to /tmp/cp-0012.ckpt\n",
            "36/36 [==============================] - 16s 435ms/step - loss: 0.1357 - accuracy: 0.7601 - recall_3: 0.6970 - val_loss: 0.1249 - val_accuracy: 0.7738 - val_recall_3: 0.6845\n",
            "Epoch 13/50\n",
            "17/36 [=============>................] - ETA: 6s - loss: 0.1157 - accuracy: 0.7914 - recall_3: 0.7433\n",
            "Epoch 13: saving model to /tmp/cp-0013.ckpt\n",
            "36/36 [==============================] - 15s 412ms/step - loss: 0.1094 - accuracy: 0.8005 - recall_3: 0.7626 - val_loss: 0.1182 - val_accuracy: 0.8214 - val_recall_3: 0.7143\n",
            "Epoch 14/50\n",
            " 6/36 [====>.........................] - ETA: 9s - loss: 0.0990 - accuracy: 0.8258 - recall_3: 0.7955\n",
            "Epoch 14: saving model to /tmp/cp-0014.ckpt\n",
            "31/36 [========================>.....] - ETA: 1s - loss: 0.1155 - accuracy: 0.7977 - recall_3: 0.7478\n",
            "Epoch 14: saving model to /tmp/cp-0014.ckpt\n",
            "36/36 [==============================] - 15s 432ms/step - loss: 0.1141 - accuracy: 0.7980 - recall_3: 0.7538 - val_loss: 0.1141 - val_accuracy: 0.8095 - val_recall_3: 0.7738\n",
            "Epoch 15/50\n",
            "20/36 [===============>..............] - ETA: 5s - loss: 0.0964 - accuracy: 0.8318 - recall_3: 0.8045\n",
            "Epoch 15: saving model to /tmp/cp-0015.ckpt\n",
            "36/36 [==============================] - 15s 410ms/step - loss: 0.0989 - accuracy: 0.8295 - recall_3: 0.7980 - val_loss: 0.1033 - val_accuracy: 0.7917 - val_recall_3: 0.7560\n",
            "Epoch 16/50\n",
            " 9/36 [======>.......................] - ETA: 8s - loss: 0.0930 - accuracy: 0.8434 - recall_3: 0.8333\n",
            "Epoch 16: saving model to /tmp/cp-0016.ckpt\n",
            "34/36 [===========================>..] - ETA: 0s - loss: 0.0913 - accuracy: 0.8396 - recall_3: 0.8222\n",
            "Epoch 16: saving model to /tmp/cp-0016.ckpt\n",
            "36/36 [==============================] - 17s 477ms/step - loss: 0.0901 - accuracy: 0.8460 - recall_3: 0.8270 - val_loss: 0.1191 - val_accuracy: 0.7798 - val_recall_3: 0.7321\n",
            "Epoch 17/50\n",
            "23/36 [==================>...........] - ETA: 4s - loss: 0.0917 - accuracy: 0.8577 - recall_3: 0.8399\n",
            "Epoch 17: saving model to /tmp/cp-0017.ckpt\n",
            "36/36 [==============================] - 15s 421ms/step - loss: 0.0922 - accuracy: 0.8497 - recall_3: 0.8258 - val_loss: 0.1319 - val_accuracy: 0.7917 - val_recall_3: 0.7321\n",
            "Epoch 18/50\n",
            "12/36 [=========>....................] - ETA: 7s - loss: 0.0883 - accuracy: 0.8523 - recall_3: 0.8220\n",
            "Epoch 18: saving model to /tmp/cp-0018.ckpt\n",
            "36/36 [==============================] - 15s 418ms/step - loss: 0.0822 - accuracy: 0.8725 - recall_3: 0.8409 - val_loss: 0.0696 - val_accuracy: 0.9048 - val_recall_3: 0.8631\n",
            "Epoch 19/50\n",
            " 1/36 [..............................] - ETA: 12s - loss: 0.0519 - accuracy: 0.9545 - recall_3: 0.9545\n",
            "Epoch 19: saving model to /tmp/cp-0019.ckpt\n",
            "26/36 [====================>.........] - ETA: 3s - loss: 0.0718 - accuracy: 0.8969 - recall_3: 0.8811\n",
            "Epoch 19: saving model to /tmp/cp-0019.ckpt\n",
            "36/36 [==============================] - 17s 462ms/step - loss: 0.0715 - accuracy: 0.8939 - recall_3: 0.8763 - val_loss: 0.0704 - val_accuracy: 0.8690 - val_recall_3: 0.8393\n",
            "Epoch 20/50\n",
            "15/36 [===========>..................] - ETA: 6s - loss: 0.0702 - accuracy: 0.8909 - recall_3: 0.8667\n",
            "Epoch 20: saving model to /tmp/cp-0020.ckpt\n",
            "36/36 [==============================] - 15s 413ms/step - loss: 0.0685 - accuracy: 0.8939 - recall_3: 0.8737 - val_loss: 0.0759 - val_accuracy: 0.8869 - val_recall_3: 0.8571\n",
            "Epoch 21/50\n",
            " 4/36 [==>...........................] - ETA: 10s - loss: 0.0685 - accuracy: 0.8864 - recall_3: 0.8523\n",
            "Epoch 21: saving model to /tmp/cp-0021.ckpt\n",
            "29/36 [=======================>......] - ETA: 2s - loss: 0.0645 - accuracy: 0.8887 - recall_3: 0.8746\n",
            "Epoch 21: saving model to /tmp/cp-0021.ckpt\n",
            "36/36 [==============================] - 16s 434ms/step - loss: 0.0613 - accuracy: 0.8977 - recall_3: 0.8838 - val_loss: 0.0682 - val_accuracy: 0.9048 - val_recall_3: 0.8750\n",
            "Epoch 22/50\n",
            "18/36 [==============>...............] - ETA: 5s - loss: 0.0576 - accuracy: 0.9066 - recall_3: 0.8990\n",
            "Epoch 22: saving model to /tmp/cp-0022.ckpt\n",
            "36/36 [==============================] - 15s 409ms/step - loss: 0.0608 - accuracy: 0.9015 - recall_3: 0.8851 - val_loss: 0.0699 - val_accuracy: 0.8988 - val_recall_3: 0.8690\n",
            "Epoch 23/50\n",
            " 7/36 [====>.........................] - ETA: 9s - loss: 0.0604 - accuracy: 0.9026 - recall_3: 0.8896\n",
            "Epoch 23: saving model to /tmp/cp-0023.ckpt\n",
            "32/36 [=========================>....] - ETA: 1s - loss: 0.0503 - accuracy: 0.9247 - recall_3: 0.9062\n",
            "Epoch 23: saving model to /tmp/cp-0023.ckpt\n",
            "36/36 [==============================] - 16s 438ms/step - loss: 0.0519 - accuracy: 0.9217 - recall_3: 0.9015 - val_loss: 0.0662 - val_accuracy: 0.9048 - val_recall_3: 0.8750\n",
            "Epoch 24/50\n",
            "21/36 [================>.............] - ETA: 4s - loss: 0.0499 - accuracy: 0.9286 - recall_3: 0.9134\n",
            "Epoch 24: saving model to /tmp/cp-0024.ckpt\n",
            "36/36 [==============================] - 15s 409ms/step - loss: 0.0554 - accuracy: 0.9154 - recall_3: 0.8990 - val_loss: 0.0599 - val_accuracy: 0.9226 - val_recall_3: 0.8929\n",
            "Epoch 25/50\n",
            "10/36 [=======>......................] - ETA: 8s - loss: 0.0416 - accuracy: 0.9500 - recall_3: 0.9273\n",
            "Epoch 25: saving model to /tmp/cp-0025.ckpt\n",
            "35/36 [============================>.] - ETA: 0s - loss: 0.0478 - accuracy: 0.9351 - recall_3: 0.9208\n",
            "Epoch 25: saving model to /tmp/cp-0025.ckpt\n",
            "36/36 [==============================] - 16s 444ms/step - loss: 0.0475 - accuracy: 0.9356 - recall_3: 0.9217 - val_loss: 0.0550 - val_accuracy: 0.9048 - val_recall_3: 0.8869\n",
            "Epoch 26/50\n",
            "24/36 [===================>..........] - ETA: 3s - loss: 0.0519 - accuracy: 0.9318 - recall_3: 0.9223\n",
            "Epoch 26: saving model to /tmp/cp-0026.ckpt\n",
            "36/36 [==============================] - 16s 436ms/step - loss: 0.0506 - accuracy: 0.9331 - recall_3: 0.9230 - val_loss: 0.0607 - val_accuracy: 0.8810 - val_recall_3: 0.8750\n",
            "Epoch 27/50\n",
            "13/36 [=========>....................] - ETA: 7s - loss: 0.0379 - accuracy: 0.9476 - recall_3: 0.9406\n",
            "Epoch 27: saving model to /tmp/cp-0027.ckpt\n",
            "36/36 [==============================] - 15s 409ms/step - loss: 0.0510 - accuracy: 0.9306 - recall_3: 0.9230 - val_loss: 0.0688 - val_accuracy: 0.8929 - val_recall_3: 0.8631\n",
            "Epoch 28/50\n",
            " 2/36 [>.............................] - ETA: 11s - loss: 0.0627 - accuracy: 0.9318 - recall_3: 0.9091\n",
            "Epoch 28: saving model to /tmp/cp-0028.ckpt\n",
            "27/36 [=====================>........] - ETA: 3s - loss: 0.0455 - accuracy: 0.9310 - recall_3: 0.9141\n",
            "Epoch 28: saving model to /tmp/cp-0028.ckpt\n",
            "36/36 [==============================] - 15s 430ms/step - loss: 0.0426 - accuracy: 0.9331 - recall_3: 0.9192 - val_loss: 0.0687 - val_accuracy: 0.8929 - val_recall_3: 0.8929\n",
            "Epoch 29/50\n",
            "16/36 [============>.................] - ETA: 6s - loss: 0.0398 - accuracy: 0.9432 - recall_3: 0.9290\n",
            "Epoch 29: saving model to /tmp/cp-0029.ckpt\n",
            "36/36 [==============================] - 15s 408ms/step - loss: 0.0345 - accuracy: 0.9470 - recall_3: 0.9407 - val_loss: 0.0635 - val_accuracy: 0.9226 - val_recall_3: 0.9167\n",
            "Epoch 30/50\n",
            " 5/36 [===>..........................] - ETA: 12s - loss: 0.0475 - accuracy: 0.9364 - recall_3: 0.9364\n",
            "Epoch 30: saving model to /tmp/cp-0030.ckpt\n",
            "30/36 [========================>.....] - ETA: 2s - loss: 0.0449 - accuracy: 0.9485 - recall_3: 0.9394\n",
            "Epoch 30: saving model to /tmp/cp-0030.ckpt\n",
            "36/36 [==============================] - 16s 443ms/step - loss: 0.0438 - accuracy: 0.9495 - recall_3: 0.9369 - val_loss: 0.0403 - val_accuracy: 0.9345 - val_recall_3: 0.9345\n",
            "Epoch 31/50\n",
            "19/36 [==============>...............] - ETA: 5s - loss: 0.0351 - accuracy: 0.9474 - recall_3: 0.9354\n",
            "Epoch 31: saving model to /tmp/cp-0031.ckpt\n",
            "36/36 [==============================] - 15s 410ms/step - loss: 0.0333 - accuracy: 0.9508 - recall_3: 0.9394 - val_loss: 0.0527 - val_accuracy: 0.9226 - val_recall_3: 0.9167\n",
            "Epoch 32/50\n",
            " 8/36 [=====>........................] - ETA: 8s - loss: 0.0190 - accuracy: 0.9716 - recall_3: 0.9602\n",
            "Epoch 32: saving model to /tmp/cp-0032.ckpt\n",
            "33/36 [==========================>...] - ETA: 1s - loss: 0.0312 - accuracy: 0.9504 - recall_3: 0.9449\n",
            "Epoch 32: saving model to /tmp/cp-0032.ckpt\n",
            "36/36 [==============================] - 15s 429ms/step - loss: 0.0309 - accuracy: 0.9520 - recall_3: 0.9470 - val_loss: 0.0471 - val_accuracy: 0.9524 - val_recall_3: 0.9524\n",
            "Epoch 33/50\n",
            "22/36 [=================>............] - ETA: 4s - loss: 0.0348 - accuracy: 0.9525 - recall_3: 0.9483\n",
            "Epoch 33: saving model to /tmp/cp-0033.ckpt\n",
            "36/36 [==============================] - 15s 415ms/step - loss: 0.0371 - accuracy: 0.9457 - recall_3: 0.9407 - val_loss: 0.0860 - val_accuracy: 0.8750 - val_recall_3: 0.8690\n",
            "Epoch 34/50\n",
            "11/36 [========>.....................] - ETA: 7s - loss: 0.0346 - accuracy: 0.9545 - recall_3: 0.9463\n",
            "Epoch 34: saving model to /tmp/cp-0034.ckpt\n",
            "36/36 [==============================] - 15s 410ms/step - loss: 0.0359 - accuracy: 0.9508 - recall_3: 0.9444 - val_loss: 0.0429 - val_accuracy: 0.9464 - val_recall_3: 0.9405\n",
            "Epoch 35/50\n",
            "\n",
            "Epoch 35: saving model to /tmp/cp-0035.ckpt\n",
            "25/36 [===================>..........] - ETA: 3s - loss: 0.0365 - accuracy: 0.9455 - recall_3: 0.9400\n",
            "Epoch 35: saving model to /tmp/cp-0035.ckpt\n",
            "36/36 [==============================] - 16s 406ms/step - loss: 0.0319 - accuracy: 0.9571 - recall_3: 0.9520 - val_loss: 0.0547 - val_accuracy: 0.9226 - val_recall_3: 0.9107\n",
            "Epoch 36/50\n",
            "14/36 [==========>...................] - ETA: 6s - loss: 0.0351 - accuracy: 0.9416 - recall_3: 0.9286\n",
            "Epoch 36: saving model to /tmp/cp-0036.ckpt\n",
            "36/36 [==============================] - 15s 408ms/step - loss: 0.0273 - accuracy: 0.9558 - recall_3: 0.9482 - val_loss: 0.0516 - val_accuracy: 0.9286 - val_recall_3: 0.9107\n",
            "Epoch 37/50\n",
            " 3/36 [=>............................] - ETA: 10s - loss: 0.0599 - accuracy: 0.9242 - recall_3: 0.8939\n",
            "Epoch 37: saving model to /tmp/cp-0037.ckpt\n",
            "28/36 [======================>.......] - ETA: 2s - loss: 0.0368 - accuracy: 0.9497 - recall_3: 0.9383\n",
            "Epoch 37: saving model to /tmp/cp-0037.ckpt\n",
            "36/36 [==============================] - 15s 431ms/step - loss: 0.0348 - accuracy: 0.9558 - recall_3: 0.9419 - val_loss: 0.0624 - val_accuracy: 0.9167 - val_recall_3: 0.9048\n",
            "Epoch 38/50\n",
            "17/36 [=============>................] - ETA: 5s - loss: 0.0189 - accuracy: 0.9759 - recall_3: 0.9706\n",
            "Epoch 38: saving model to /tmp/cp-0038.ckpt\n",
            "36/36 [==============================] - 15s 408ms/step - loss: 0.0317 - accuracy: 0.9508 - recall_3: 0.9444 - val_loss: 0.0466 - val_accuracy: 0.9405 - val_recall_3: 0.9286\n",
            "Epoch 39/50\n",
            " 6/36 [====>.........................] - ETA: 9s - loss: 0.0336 - accuracy: 0.9621 - recall_3: 0.9621\n",
            "Epoch 39: saving model to /tmp/cp-0039.ckpt\n",
            "31/36 [========================>.....] - ETA: 1s - loss: 0.0324 - accuracy: 0.9619 - recall_3: 0.9531\n",
            "Epoch 39: saving model to /tmp/cp-0039.ckpt\n",
            "36/36 [==============================] - 15s 430ms/step - loss: 0.0309 - accuracy: 0.9621 - recall_3: 0.9545 - val_loss: 0.0459 - val_accuracy: 0.9345 - val_recall_3: 0.9286\n",
            "Epoch 40/50\n",
            "20/36 [===============>..............] - ETA: 5s - loss: 0.0247 - accuracy: 0.9614 - recall_3: 0.9568\n",
            "Epoch 40: saving model to /tmp/cp-0040.ckpt\n",
            "36/36 [==============================] - 15s 407ms/step - loss: 0.0209 - accuracy: 0.9697 - recall_3: 0.9646 - val_loss: 0.0570 - val_accuracy: 0.9286 - val_recall_3: 0.9286\n",
            "Epoch 41/50\n",
            " 9/36 [======>.......................] - ETA: 8s - loss: 0.0281 - accuracy: 0.9646 - recall_3: 0.9646\n",
            "Epoch 41: saving model to /tmp/cp-0041.ckpt\n",
            "34/36 [===========================>..] - ETA: 0s - loss: 0.0299 - accuracy: 0.9626 - recall_3: 0.9572\n",
            "Epoch 41: saving model to /tmp/cp-0041.ckpt\n",
            "36/36 [==============================] - 16s 455ms/step - loss: 0.0291 - accuracy: 0.9646 - recall_3: 0.9583 - val_loss: 0.0556 - val_accuracy: 0.9048 - val_recall_3: 0.9048\n",
            "Epoch 42/50\n",
            "23/36 [==================>...........] - ETA: 4s - loss: 0.0219 - accuracy: 0.9704 - recall_3: 0.9664\n",
            "Epoch 42: saving model to /tmp/cp-0042.ckpt\n",
            "36/36 [==============================] - 15s 406ms/step - loss: 0.0305 - accuracy: 0.9621 - recall_3: 0.9571 - val_loss: 0.0627 - val_accuracy: 0.9286 - val_recall_3: 0.9226\n",
            "Epoch 43/50\n",
            "12/36 [=========>....................] - ETA: 7s - loss: 0.0385 - accuracy: 0.9583 - recall_3: 0.9508\n",
            "Epoch 43: saving model to /tmp/cp-0043.ckpt\n",
            "36/36 [==============================] - 15s 407ms/step - loss: 0.0346 - accuracy: 0.9533 - recall_3: 0.9482 - val_loss: 0.0600 - val_accuracy: 0.8988 - val_recall_3: 0.8929\n",
            "Epoch 44/50\n",
            " 1/36 [..............................] - ETA: 12s - loss: 0.0088 - accuracy: 1.0000 - recall_3: 1.0000\n",
            "Epoch 44: saving model to /tmp/cp-0044.ckpt\n",
            "26/36 [====================>.........] - ETA: 3s - loss: 0.0226 - accuracy: 0.9703 - recall_3: 0.9685\n",
            "Epoch 44: saving model to /tmp/cp-0044.ckpt\n",
            "36/36 [==============================] - 15s 427ms/step - loss: 0.0269 - accuracy: 0.9646 - recall_3: 0.9583 - val_loss: 0.0598 - val_accuracy: 0.9167 - val_recall_3: 0.9107\n",
            "Epoch 45/50\n",
            "15/36 [===========>..................] - ETA: 6s - loss: 0.0258 - accuracy: 0.9727 - recall_3: 0.9667\n",
            "Epoch 45: saving model to /tmp/cp-0045.ckpt\n",
            "36/36 [==============================] - 15s 408ms/step - loss: 0.0268 - accuracy: 0.9735 - recall_3: 0.9684 - val_loss: 0.0661 - val_accuracy: 0.8869 - val_recall_3: 0.8810\n",
            "Epoch 46/50\n",
            " 4/36 [==>...........................] - ETA: 9s - loss: 0.0417 - accuracy: 0.9318 - recall_3: 0.9318 \n",
            "Epoch 46: saving model to /tmp/cp-0046.ckpt\n",
            "29/36 [=======================>......] - ETA: 2s - loss: 0.0245 - accuracy: 0.9702 - recall_3: 0.9687\n",
            "Epoch 46: saving model to /tmp/cp-0046.ckpt\n",
            "36/36 [==============================] - 15s 430ms/step - loss: 0.0302 - accuracy: 0.9571 - recall_3: 0.9508 - val_loss: 0.0601 - val_accuracy: 0.9167 - val_recall_3: 0.8988\n",
            "Epoch 47/50\n",
            "18/36 [==============>...............] - ETA: 5s - loss: 0.0293 - accuracy: 0.9646 - recall_3: 0.9520\n",
            "Epoch 47: saving model to /tmp/cp-0047.ckpt\n",
            "36/36 [==============================] - 15s 407ms/step - loss: 0.0385 - accuracy: 0.9520 - recall_3: 0.9432 - val_loss: 0.0855 - val_accuracy: 0.8690 - val_recall_3: 0.8631\n",
            "Epoch 48/50\n",
            " 7/36 [====>.........................] - ETA: 9s - loss: 0.0505 - accuracy: 0.9221 - recall_3: 0.9221\n",
            "Epoch 48: saving model to /tmp/cp-0048.ckpt\n",
            "32/36 [=========================>....] - ETA: 1s - loss: 0.0337 - accuracy: 0.9503 - recall_3: 0.9489\n",
            "Epoch 48: saving model to /tmp/cp-0048.ckpt\n",
            "36/36 [==============================] - 15s 426ms/step - loss: 0.0318 - accuracy: 0.9533 - recall_3: 0.9508 - val_loss: 0.0506 - val_accuracy: 0.9107 - val_recall_3: 0.9048\n",
            "Epoch 49/50\n",
            "21/36 [================>.............] - ETA: 4s - loss: 0.0279 - accuracy: 0.9632 - recall_3: 0.9567\n",
            "Epoch 49: saving model to /tmp/cp-0049.ckpt\n",
            "36/36 [==============================] - 14s 403ms/step - loss: 0.0246 - accuracy: 0.9634 - recall_3: 0.9583 - val_loss: 0.0625 - val_accuracy: 0.9286 - val_recall_3: 0.9286\n",
            "Epoch 50/50\n",
            "10/36 [=======>......................] - ETA: 8s - loss: 0.0206 - accuracy: 0.9773 - recall_3: 0.9682\n",
            "Epoch 50: saving model to /tmp/cp-0050.ckpt\n",
            "35/36 [============================>.] - ETA: 0s - loss: 0.0179 - accuracy: 0.9766 - recall_3: 0.9727\n",
            "Epoch 50: saving model to /tmp/cp-0050.ckpt\n",
            "36/36 [==============================] - 16s 433ms/step - loss: 0.0175 - accuracy: 0.9773 - recall_3: 0.9735 - val_loss: 0.0643 - val_accuracy: 0.9464 - val_recall_3: 0.9405\n"
          ]
        }
      ]
    },
    {
      "cell_type": "markdown",
      "source": [
        "# Plot Loss\n",
        "Plotting the loss to determine when to stop training the network.  "
      ],
      "metadata": {
        "id": "Y4g-4QaWOQSh"
      }
    },
    {
      "cell_type": "code",
      "source": [
        "#Plot the loss  \n",
        "plt.plot(results_tiny.history['loss']) #Testing Loss\n",
        "plt.plot(results_tiny.history['val_loss']) #Validation Loss\n",
        "\n",
        "#Labels\n",
        "plt.title('TinyHand Loss')\n",
        "plt.ylabel('Loss')\n",
        "plt.xlabel('Epoch')\n",
        "plt.legend(['Training', 'Validation'], loc='upper right')\n",
        "plt.show()"
      ],
      "metadata": {
        "colab": {
          "base_uri": "https://localhost:8080/",
          "height": 295
        },
        "id": "9oGLBwX58JAC",
        "outputId": "d08c1011-fb25-4b4f-f913-a5505942f9d5"
      },
      "execution_count": 29,
      "outputs": [
        {
          "output_type": "display_data",
          "data": {
            "text/plain": [
              "<Figure size 432x288 with 1 Axes>"
            ],
            "image/png": "[encoded data removed]"
          },
          "metadata": {
            "needs_background": "light"
          }
        }
      ]
    },
    {
      "cell_type": "markdown",
      "source": [
        "# Plot Accuracy\n",
        "Plotting the accuracy to determine when the network performed best."
      ],
      "metadata": {
        "id": "90GpU3VbOi9h"
      }
    },
    {
      "cell_type": "code",
      "source": [
        "#Plot the accuracy  \n",
        "plt.plot(results_tiny.history['accuracy']) #Testing Accuracy\n",
        "plt.plot(results_tiny.history['val_accuracy']) #Validation Accuracy\n",
        "#Add Labels \n",
        "plt.title('TinyHand Accuracy')\n",
        "plt.ylabel('Accuracy')\n",
        "plt.xlabel('Epoch')\n",
        "plt.legend(['Training', 'Validation'], loc='lower right')\n",
        "plt.show()"
      ],
      "metadata": {
        "colab": {
          "base_uri": "https://localhost:8080/",
          "height": 295
        },
        "id": "C9G3PwY48Lst",
        "outputId": "e64e0cb6-a669-445e-b937-c45497fa822d"
      },
      "execution_count": 30,
      "outputs": [
        {
          "output_type": "display_data",
          "data": {
            "text/plain": [
              "<Figure size 432x288 with 1 Axes>"
            ],
            "image/png": "[encoded data removed]"
          },
          "metadata": {
            "needs_background": "light"
          }
        }
      ]
    },
    {
      "cell_type": "code",
      "source": [
        "tiny_hand.save_weights(folder_path + \"/tiny_hand_final.h5\")"
      ],
      "metadata": {
        "id": "RGy-r-Zx8R9j"
      },
      "execution_count": 31,
      "outputs": []
    },
    {
      "cell_type": "markdown",
      "source": [
        "# Build TinyHand Architecture (REQUIRED)\n",
        "Repeating the tiny_hand structure above. You need to run this section in order to load the weights from the \"tiny_hand_final.h5\" weights. "
      ],
      "metadata": {
        "id": "1FSDZISEup1h"
      }
    },
    {
      "cell_type": "code",
      "source": [
        "image_size = 256\n",
        "tiny_hand = tf.keras.models.Sequential([\n",
        "\n",
        "#First Layer, First Layer remains the same\n",
        "tf.keras.layers.Conv2D(64, (3,3), activation='relu',padding='same', input_shape=(image_size, image_size, 3)),\n",
        "tf.keras.layers.MaxPooling2D(),\n",
        "tf.keras.layers.Dropout(0.2), #Indroducing Dropout Layers which improves regularization\n",
        "\n",
        "#Second Layer, Convolution with depth 32\n",
        "tf.keras.layers.Conv2D(32, (3,3),padding='same', activation='relu'),\n",
        "tf.keras.layers.Conv2D(32, (3,3),padding='same', activation='relu'),\n",
        "tf.keras.layers.MaxPooling2D(),\n",
        "tf.keras.layers.Dropout(0.2), #Indroducing Dropout Layers which improves regularization \n",
        "\n",
        "#Third Layer, Convolution with depth 64\n",
        "tf.keras.layers.Conv2D(64, (3,3),padding='same', activation='relu'),\n",
        "tf.keras.layers.Conv2D(64, (3,3),padding='same', activation='relu'),\n",
        "tf.keras.layers.MaxPooling2D(),\n",
        "tf.keras.layers.Dropout(0.2), #Indroducing Dropout Layers which improves regularization\n",
        "\n",
        "#Fourth Layer, Convolution with depth 128 Increasing the count of Conv to 3\n",
        "tf.keras.layers.Conv2D(128, (3,3),padding='same', activation='relu'),\n",
        "tf.keras.layers.Conv2D(128, (3,3),padding='same', activation='relu'),\n",
        "tf.keras.layers.Conv2D(128, (3,3),padding='same', activation='relu'),\n",
        "tf.keras.layers.MaxPooling2D(),\n",
        "tf.keras.layers.Dropout(0.2), #Indroducing Dropout Layers which improves regularization \n",
        "\n",
        "#Fifth Layer, Convolution with depth 256\n",
        "tf.keras.layers.Conv2D(256, (3,3),padding='same', activation='relu'),\n",
        "tf.keras.layers.Conv2D(256, (3,3),padding='same', activation='relu'),\n",
        "tf.keras.layers.MaxPooling2D(),\n",
        "\n",
        "tf.keras.layers.Flatten(),\n",
        "tf.keras.layers.Dense(2048, activation='relu'), #Reduce Dense layer to 2048\n",
        "tf.keras.layers.Dense(8, activation='softmax')]) # Hot ones encoding for 8 values"
      ],
      "metadata": {
        "id": "DutEeC4LwQfC"
      },
      "execution_count": 2,
      "outputs": []
    },
    {
      "cell_type": "markdown",
      "source": [
        "# Load the Weight File (REQUIRED)\n",
        "Ensure you upload the file into the base file directory located at the left. It should look like the image below after uploading the file. \n",
        "\n",
        "![image.png](data:image/png;base64,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)\n",
        "\n",
        "Use the weight file included in my submission in the HandyKeysApp Directory. \n",
        "\n",
        "You can also find the weights in my Dataset Folder at this Drive link: https://drive.google.com/drive/folders/1Tj5QfndOj4xlEvG-CxJihrJdXRqfIokj?usp=sharing"
      ],
      "metadata": {
        "id": "-DXz_IU8XcH5"
      }
    },
    {
      "cell_type": "code",
      "source": [
        "tiny_hand.load_weights(\"tiny_hand_final.h5\")"
      ],
      "metadata": {
        "id": "Se2UTm5Hwwrw"
      },
      "execution_count": 3,
      "outputs": []
    },
    {
      "cell_type": "markdown",
      "source": [
        "# Test TinyHand (REQUIRED)\n",
        "\n",
        "This section of the Notebook allows for you to load the model of tiny hand and the validation set that was being used in the training to check that my network is working. By using the small validation set I provided you with you can pick from the examples to upload one at a time to receive the classification and the photos or just upload all at once to recieve the classifications only.\n",
        "\n",
        "When running you can just upload it where it says Choose Files:\n",
        "\n",
        "![image.png](data:image/png;base64,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)"
      ],
      "metadata": {
        "id": "oYe7mtrAOpU1"
      }
    },
    {
      "cell_type": "code",
      "source": [
        "from google.colab import files\n",
        "from keras.preprocessing import image\n",
        "\n",
        "uploaded = files.upload()\n",
        "\n",
        "for fn in uploaded.keys():\n",
        " \n",
        "  # predict hand gestures\n",
        "  path = '/content/' + fn\n",
        "  img = image.load_img(path, target_size=(256, 256))\n",
        "  array_img = image.img_to_array(img)\n",
        "  plt.imshow(array_img/255.)\n",
        "  array_img = np.expand_dims(array_img, axis=0)\n",
        "  images = np.vstack([array_img])\n",
        "  classes = tiny_hand.predict(images, batch_size=1)\n",
        "  # print hot-ones encodeing \n",
        "  print(classes)\n",
        "\n",
        "  #select largest index\n",
        "  max_index = np.argmax(classes[0])\n",
        "\n",
        "  # Print the hand key number. \n",
        "  if max_index == 0:\n",
        "    print(\"Hand is Key 1\")\n",
        "  elif max_index == 1:\n",
        "    print(\"Hand is Key 2\")\n",
        "  elif max_index == 2:\n",
        "    print(\"Hand is Key 3\")\n",
        "  elif max_index == 3:\n",
        "    print(\"Hand is Key 4\")\n",
        "  elif max_index == 4:\n",
        "    print(\"Hand is Key 5\")\n",
        "  elif max_index == 5:\n",
        "    print(\"Hand is Key 6\")\n",
        "  elif max_index == 6:\n",
        "    print(\"Hand is Key 7\")\n",
        "  else:\n",
        "    print(\"No Hand. Nothing.\")\n"
      ],
      "metadata": {
        "colab": {
          "resources": {
            "http://localhost:8080/nbextensions/google.colab/files.js": {
              "data": "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",
              "ok": true,
              "headers": [
                [
                  "content-type",
                  "application/javascript"
                ]
              ],
              "status": 200,
              "status_text": ""
            }
          },
          "base_uri": "https://localhost:8080/",
          "height": 359
        },
        "id": "B_mV0zFwPhyl",
        "outputId": "82ca814b-37df-4eb7-a710-271568a75e2b"
      },
      "execution_count": 16,
      "outputs": [
        {
          "output_type": "display_data",
          "data": {
            "text/plain": [
              "<IPython.core.display.HTML object>"
            ],
            "text/html": [
              "\n",
              "     <input type=\"file\" id=\"files-b58c4c19-9731-419a-bd74-fa99fae6ea62\" name=\"files[]\" multiple disabled\n",
              "        style=\"border:none\" />\n",
              "     <output id=\"result-b58c4c19-9731-419a-bd74-fa99fae6ea62\">\n",
              "      Upload widget is only available when the cell has been executed in the\n",
              "      current browser session. Please rerun this cell to enable.\n",
              "      </output>\n",
              "      <script src=\"/nbextensions/google.colab/files.js\"></script> "
            ]
          },
          "metadata": {}
        },
        {
          "output_type": "stream",
          "name": "stdout",
          "text": [
            "Saving 317.jpg to 317 (1).jpg\n",
            "[[0. 1. 0. 0. 0. 0. 0. 0.]]\n",
            "Hand is Key 2\n"
          ]
        },
        {
          "output_type": "display_data",
          "data": {
            "text/plain": [
              "<Figure size 432x288 with 1 Axes>"
            ],
            "image/png": "[encoded data removed]"
          },
          "metadata": {
            "needs_background": "light"
          }
        }
      ]
    }
  ]
}